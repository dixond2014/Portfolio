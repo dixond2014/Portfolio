{
 "cells": [
  {
   "cell_type": "markdown",
   "metadata": {},
   "source": [
    "# Classification of the CIFAR-10 Dataset"
   ]
  },
  {
   "cell_type": "markdown",
   "metadata": {},
   "source": [
    "[Wikipedia](https://en.wikipedia.org/wiki/CIFAR-10) says the **CIFAR-10 dataset** is a collection of images that are commonly used to train machine learning and computer vision algorithms. It is one of the most widely used datasets for machine learning research. \n",
    "\n",
    "The CIFAR-10 dataset contains 60,000 32x32 color images in 10 different classes. The 10 different classes represent airplanes, cars, birds, cats, deer, dogs, frogs, horses, ships, and trucks. There are 6,000 images of each class."
   ]
  },
  {
   "cell_type": "code",
   "execution_count": 1,
   "metadata": {},
   "outputs": [
    {
     "name": "stderr",
     "output_type": "stream",
     "text": [
      "Using TensorFlow backend.\n"
     ]
    }
   ],
   "source": [
    "# Download data\n",
    "from keras.datasets import cifar10\n",
    "(x_train,y_train),(x_test,y_test) = cifar10.load_data()"
   ]
  },
  {
   "cell_type": "markdown",
   "metadata": {},
   "source": [
    "We now take a look at the shape of the training and testing datasets. "
   ]
  },
  {
   "cell_type": "code",
   "execution_count": 2,
   "metadata": {},
   "outputs": [
    {
     "name": "stdout",
     "output_type": "stream",
     "text": [
      "The size of the x_training set: (50000, 32, 32, 3)\n",
      "The size of the y_training set: (50000, 1)\n",
      "The size of the x_texting set: (10000, 32, 32, 3)\n",
      "The size of the y_texting set: (10000, 1)\n"
     ]
    }
   ],
   "source": [
    "# Shape of the datasets\n",
    "print('The size of the x_training set:', x_train.shape)\n",
    "print('The size of the y_training set:', y_train.shape)\n",
    "print('The size of the x_texting set:', x_test.shape)\n",
    "print('The size of the y_texting set:', y_test.shape)"
   ]
  },
  {
   "cell_type": "markdown",
   "metadata": {},
   "source": [
    "We now look at the first image in our training set to see how it looks."
   ]
  },
  {
   "cell_type": "code",
   "execution_count": 3,
   "metadata": {},
   "outputs": [
    {
     "data": {
      "text/plain": [
       "array([[[ 59,  62,  63],\n",
       "        [ 43,  46,  45],\n",
       "        [ 50,  48,  43],\n",
       "        ...,\n",
       "        [158, 132, 108],\n",
       "        [152, 125, 102],\n",
       "        [148, 124, 103]],\n",
       "\n",
       "       [[ 16,  20,  20],\n",
       "        [  0,   0,   0],\n",
       "        [ 18,   8,   0],\n",
       "        ...,\n",
       "        [123,  88,  55],\n",
       "        [119,  83,  50],\n",
       "        [122,  87,  57]],\n",
       "\n",
       "       [[ 25,  24,  21],\n",
       "        [ 16,   7,   0],\n",
       "        [ 49,  27,   8],\n",
       "        ...,\n",
       "        [118,  84,  50],\n",
       "        [120,  84,  50],\n",
       "        [109,  73,  42]],\n",
       "\n",
       "       ...,\n",
       "\n",
       "       [[208, 170,  96],\n",
       "        [201, 153,  34],\n",
       "        [198, 161,  26],\n",
       "        ...,\n",
       "        [160, 133,  70],\n",
       "        [ 56,  31,   7],\n",
       "        [ 53,  34,  20]],\n",
       "\n",
       "       [[180, 139,  96],\n",
       "        [173, 123,  42],\n",
       "        [186, 144,  30],\n",
       "        ...,\n",
       "        [184, 148,  94],\n",
       "        [ 97,  62,  34],\n",
       "        [ 83,  53,  34]],\n",
       "\n",
       "       [[177, 144, 116],\n",
       "        [168, 129,  94],\n",
       "        [179, 142,  87],\n",
       "        ...,\n",
       "        [216, 184, 140],\n",
       "        [151, 118,  84],\n",
       "        [123,  92,  72]]], dtype=uint8)"
      ]
     },
     "execution_count": 3,
     "metadata": {},
     "output_type": "execute_result"
    }
   ],
   "source": [
    "# First image of the training set\n",
    "x_train[0]"
   ]
  },
  {
   "cell_type": "markdown",
   "metadata": {},
   "source": [
    "We now show the image we just observed in matrix form."
   ]
  },
  {
   "cell_type": "code",
   "execution_count": 5,
   "metadata": {},
   "outputs": [
    {
     "data": {
      "text/plain": [
       "<matplotlib.image.AxesImage at 0x277507ec608>"
      ]
     },
     "execution_count": 5,
     "metadata": {},
     "output_type": "execute_result"
    },
    {
     "data": {
      "image/png": "[encoded data removed]",
      "text/plain": [
       "<Figure size 432x288 with 1 Axes>"
      ]
     },
     "metadata": {
      "needs_background": "light"
     },
     "output_type": "display_data"
    }
   ],
   "source": [
    "# First image shown of the dataset\n",
    "import matplotlib.pyplot as plt ### library and package needed to show image\n",
    "img = plt.imshow(x_train[0])\n",
    "img"
   ]
  },
  {
   "cell_type": "markdown",
   "metadata": {},
   "source": [
    "Let's now look at the label of this training set image."
   ]
  },
  {
   "cell_type": "code",
   "execution_count": 6,
   "metadata": {},
   "outputs": [
    {
     "name": "stdout",
     "output_type": "stream",
     "text": [
      "The label of the above image is [6]\n"
     ]
    }
   ],
   "source": [
    "# Label of the image shown\n",
    "print('The label of the above image is', y_train[0])"
   ]
  },
  {
   "cell_type": "markdown",
   "metadata": {},
   "source": [
    "We now convert the test and training target labels using one-hot encoding. This will allow ease of prediction without skewing the data. We follow this by observing the new target training set."
   ]
  },
  {
   "cell_type": "code",
   "execution_count": 7,
   "metadata": {},
   "outputs": [
    {
     "name": "stdout",
     "output_type": "stream",
     "text": [
      "[[0. 0. 0. ... 0. 0. 0.]\n",
      " [0. 0. 0. ... 0. 0. 1.]\n",
      " [0. 0. 0. ... 0. 0. 1.]\n",
      " ...\n",
      " [0. 0. 0. ... 0. 0. 1.]\n",
      " [0. 1. 0. ... 0. 0. 0.]\n",
      " [0. 1. 0. ... 0. 0. 0.]]\n"
     ]
    }
   ],
   "source": [
    "from keras.utils import to_categorical\n",
    "y_train_one_hot = to_categorical(y_train)\n",
    "y_test_one_hot = to_categorical(y_test)\n",
    "\n",
    "# Observe the labels of the one-hot training set\n",
    "print(y_train_one_hot)"
   ]
  },
  {
   "cell_type": "markdown",
   "metadata": {},
   "source": [
    "Let's now observe the first image of the training set. Our observation should show the number 1 at position (1,7) of the matrix, since our original label was 6."
   ]
  },
  {
   "cell_type": "code",
   "execution_count": 8,
   "metadata": {},
   "outputs": [
    {
     "name": "stdout",
     "output_type": "stream",
     "text": [
      "The label in one-hot form is [0. 0. 0. 0. 0. 0. 1. 0. 0. 0.]\n"
     ]
    }
   ],
   "source": [
    "print('The label in one-hot form is', y_train_one_hot[0])"
   ]
  },
  {
   "cell_type": "markdown",
   "metadata": {},
   "source": [
    "We now want to normalize the training and testing data so that our pixel value is between 0 and 1. We know that the values for color images range between 0 and 255, inclusive. Let's now observe how the data looks."
   ]
  },
  {
   "cell_type": "code",
   "execution_count": 9,
   "metadata": {},
   "outputs": [
    {
     "name": "stdout",
     "output_type": "stream",
     "text": [
      "[[[0.23137255 0.24313725 0.24705882]\n",
      "  [0.16862745 0.18039216 0.17647059]\n",
      "  [0.19607843 0.18823529 0.16862745]\n",
      "  ...\n",
      "  [0.61960784 0.51764706 0.42352941]\n",
      "  [0.59607843 0.49019608 0.4       ]\n",
      "  [0.58039216 0.48627451 0.40392157]]\n",
      "\n",
      " [[0.0627451  0.07843137 0.07843137]\n",
      "  [0.         0.         0.        ]\n",
      "  [0.07058824 0.03137255 0.        ]\n",
      "  ...\n",
      "  [0.48235294 0.34509804 0.21568627]\n",
      "  [0.46666667 0.3254902  0.19607843]\n",
      "  [0.47843137 0.34117647 0.22352941]]\n",
      "\n",
      " [[0.09803922 0.09411765 0.08235294]\n",
      "  [0.0627451  0.02745098 0.        ]\n",
      "  [0.19215686 0.10588235 0.03137255]\n",
      "  ...\n",
      "  [0.4627451  0.32941176 0.19607843]\n",
      "  [0.47058824 0.32941176 0.19607843]\n",
      "  [0.42745098 0.28627451 0.16470588]]\n",
      "\n",
      " ...\n",
      "\n",
      " [[0.81568627 0.66666667 0.37647059]\n",
      "  [0.78823529 0.6        0.13333333]\n",
      "  [0.77647059 0.63137255 0.10196078]\n",
      "  ...\n",
      "  [0.62745098 0.52156863 0.2745098 ]\n",
      "  [0.21960784 0.12156863 0.02745098]\n",
      "  [0.20784314 0.13333333 0.07843137]]\n",
      "\n",
      " [[0.70588235 0.54509804 0.37647059]\n",
      "  [0.67843137 0.48235294 0.16470588]\n",
      "  [0.72941176 0.56470588 0.11764706]\n",
      "  ...\n",
      "  [0.72156863 0.58039216 0.36862745]\n",
      "  [0.38039216 0.24313725 0.13333333]\n",
      "  [0.3254902  0.20784314 0.13333333]]\n",
      "\n",
      " [[0.69411765 0.56470588 0.45490196]\n",
      "  [0.65882353 0.50588235 0.36862745]\n",
      "  [0.70196078 0.55686275 0.34117647]\n",
      "  ...\n",
      "  [0.84705882 0.72156863 0.54901961]\n",
      "  [0.59215686 0.4627451  0.32941176]\n",
      "  [0.48235294 0.36078431 0.28235294]]]\n"
     ]
    }
   ],
   "source": [
    "# Normalize the data\n",
    "x_train = x_train/255\n",
    "x_test = x_test/255\n",
    "\n",
    "#View the first image data normalized\n",
    "print(x_train[0])"
   ]
  },
  {
   "cell_type": "markdown",
   "metadata": {},
   "source": [
    "## Basic Convolution Neural Network #1"
   ]
  },
  {
   "cell_type": "markdown",
   "metadata": {},
   "source": [
    "We are now going to build the architecture of the Neural Network model to make the prediction. This is a basic Convolution Neural Network below."
   ]
  },
  {
   "cell_type": "code",
   "execution_count": 10,
   "metadata": {},
   "outputs": [],
   "source": [
    "# Import library for model in Keras to build the CNN\n",
    "from keras.models import Sequential\n",
    "from keras.layers import Conv2D, Dense, Flatten, MaxPooling2D\n",
    "\n",
    "# Create the architecture\n",
    "model = Sequential()\n",
    "\n",
    "# Build CNN layer\n",
    "model.add(Conv2D(32, (5,5), activation = \"relu\", input_shape = (32,32,3)))\n",
    "\n",
    "# Build MaxPooling layer\n",
    "model.add(MaxPooling2D(pool_size=(2,2)))\n",
    "\n",
    "# Build CNN layer\n",
    "model.add(Conv2D(32, (5,5), activation = \"relu\"))\n",
    "\n",
    "# Build MaxPooling layer\n",
    "model.add(MaxPooling2D(pool_size=(2,2)))\n",
    "\n",
    "\n",
    "# Flatten the data\n",
    "model.add(Flatten())\n",
    "model.add(Dense(1000,activation = 'relu'))\n",
    "model.add(Dense(10, activation = 'softmax'))\n"
   ]
  },
  {
   "cell_type": "code",
   "execution_count": 11,
   "metadata": {},
   "outputs": [],
   "source": [
    "# Compile the model\n",
    "model.compile(loss= 'categorical_crossentropy', optimizer='adam', metrics=['accuracy'])"
   ]
  },
  {
   "cell_type": "code",
   "execution_count": 12,
   "metadata": {},
   "outputs": [
    {
     "name": "stdout",
     "output_type": "stream",
     "text": [
      "Train on 35000 samples, validate on 15000 samples\n",
      "Epoch 1/10\n",
      "35000/35000 [==============================] - 50s 1ms/step - loss: 1.7112 - accuracy: 0.3838 - val_loss: 1.5348 - val_accuracy: 0.4439\n",
      "Epoch 2/10\n",
      "35000/35000 [==============================] - 49s 1ms/step - loss: 1.3758 - accuracy: 0.5073 - val_loss: 1.3407 - val_accuracy: 0.5233\n",
      "Epoch 3/10\n",
      "35000/35000 [==============================] - 48s 1ms/step - loss: 1.2301 - accuracy: 0.5627 - val_loss: 1.2341 - val_accuracy: 0.5643\n",
      "Epoch 4/10\n",
      "35000/35000 [==============================] - 48s 1ms/step - loss: 1.1128 - accuracy: 0.6069 - val_loss: 1.1304 - val_accuracy: 0.6081\n",
      "Epoch 5/10\n",
      "35000/35000 [==============================] - 49s 1ms/step - loss: 1.0334 - accuracy: 0.6349 - val_loss: 1.1002 - val_accuracy: 0.6179\n",
      "Epoch 6/10\n",
      "35000/35000 [==============================] - 49s 1ms/step - loss: 0.9561 - accuracy: 0.6628 - val_loss: 1.0417 - val_accuracy: 0.6395\n",
      "Epoch 7/10\n",
      "35000/35000 [==============================] - 48s 1ms/step - loss: 0.8872 - accuracy: 0.6903 - val_loss: 1.0134 - val_accuracy: 0.6534\n",
      "Epoch 8/10\n",
      "35000/35000 [==============================] - 50s 1ms/step - loss: 0.8277 - accuracy: 0.7132 - val_loss: 1.0106 - val_accuracy: 0.6515\n",
      "Epoch 9/10\n",
      "35000/35000 [==============================] - 49s 1ms/step - loss: 0.7550 - accuracy: 0.7382 - val_loss: 0.9640 - val_accuracy: 0.6747\n",
      "Epoch 10/10\n",
      "35000/35000 [==============================] - 49s 1ms/step - loss: 0.7022 - accuracy: 0.7577 - val_loss: 0.9611 - val_accuracy: 0.6778\n"
     ]
    }
   ],
   "source": [
    "# Training the model\n",
    "hist = model.fit(x_train, y_train_one_hot, batch_size=256, epochs=10, validation_split=0.30)"
   ]
  },
  {
   "cell_type": "markdown",
   "metadata": {},
   "source": [
    "We are now going to see the models accuracy."
   ]
  },
  {
   "cell_type": "code",
   "execution_count": 13,
   "metadata": {},
   "outputs": [
    {
     "name": "stdout",
     "output_type": "stream",
     "text": [
      "10000/10000 [==============================] - 6s 557us/step\n"
     ]
    },
    {
     "data": {
      "text/plain": [
       "0.6753000020980835"
      ]
     },
     "execution_count": 13,
     "metadata": {},
     "output_type": "execute_result"
    }
   ],
   "source": [
    "model.evaluate(x_test, y_test_one_hot)[1]"
   ]
  },
  {
   "cell_type": "code",
   "execution_count": 16,
   "metadata": {},
   "outputs": [
    {
     "data": {
      "image/png": "[encoded data removed]",
      "text/plain": [
       "<Figure size 432x288 with 1 Axes>"
      ]
     },
     "metadata": {
      "needs_background": "light"
     },
     "output_type": "display_data"
    }
   ],
   "source": [
    "# Visualize the accuracy\n",
    "\n",
    "plt.plot(hist.history['accuracy'])\n",
    "plt.plot(hist.history['val_accuracy'])\n",
    "plt.title('Model accuracy')\n",
    "plt.ylabel('Accuracy')\n",
    "plt.xlabel('Epoch')\n",
    "plt.legend(['Train', 'Test'], loc='upper left')\n",
    "plt.show()"
   ]
  },
  {
   "cell_type": "code",
   "execution_count": 17,
   "metadata": {},
   "outputs": [
    {
     "data": {
      "image/png": "[encoded data removed]",
      "text/plain": [
       "<Figure size 432x288 with 1 Axes>"
      ]
     },
     "metadata": {
      "needs_background": "light"
     },
     "output_type": "display_data"
    }
   ],
   "source": [
    "# Visualize the loss\n",
    "\n",
    "plt.plot(hist.history['loss'])\n",
    "plt.plot(hist.history['val_loss'])\n",
    "plt.title('Model loss')\n",
    "plt.ylabel('Loss')\n",
    "plt.xlabel('Epoch')\n",
    "plt.legend(['Train', 'Test'], loc='upper left')\n",
    "plt.show()"
   ]
  },
  {
   "cell_type": "markdown",
   "metadata": {},
   "source": [
    "As we can see here, the accuracy is a little over 67%. I want to experiment with the Epochs of the model to improve accuracy. "
   ]
  },
  {
   "cell_type": "markdown",
   "metadata": {},
   "source": [
    "## Basic Convolution Neural Network #2"
   ]
  },
  {
   "cell_type": "markdown",
   "metadata": {},
   "source": [
    "For this model, I kept the layers the same from Model 1. I am not adding 5 epochs to this model to see if there is any improvement in the model."
   ]
  },
  {
   "cell_type": "code",
   "execution_count": 1,
   "metadata": {},
   "outputs": [
    {
     "name": "stderr",
     "output_type": "stream",
     "text": [
      "Using TensorFlow backend.\n"
     ]
    }
   ],
   "source": [
    "# Import data\n",
    "from keras.datasets import cifar10\n",
    "(x_train,y_train),(x_test,y_test) = cifar10.load_data()\n",
    "\n",
    "# Normalize the data\n",
    "x_train = x_train/255\n",
    "x_test = x_test/255"
   ]
  },
  {
   "cell_type": "code",
   "execution_count": 2,
   "metadata": {},
   "outputs": [],
   "source": [
    "from keras.utils import to_categorical\n",
    "y_train_one_hot = to_categorical(y_train)\n",
    "y_test_one_hot = to_categorical(y_test)"
   ]
  },
  {
   "cell_type": "code",
   "execution_count": 3,
   "metadata": {},
   "outputs": [],
   "source": [
    "# Import library for model in Keras to build the CNN\n",
    "from keras.models import Sequential\n",
    "from keras.layers import Conv2D, Dense, Flatten, MaxPooling2D\n",
    "\n",
    "# Create the architecture\n",
    "model = Sequential()\n",
    "\n",
    "# Build CNN layer\n",
    "model.add(Conv2D(32, (5,5), activation = \"relu\", input_shape = (32,32,3)))\n",
    "\n",
    "# Build MaxPooling layer\n",
    "model.add(MaxPooling2D(pool_size=(2,2)))\n",
    "\n",
    "# Build CNN layer\n",
    "model.add(Conv2D(32, (5,5), activation = \"relu\"))\n",
    "\n",
    "# Build MaxPooling layer\n",
    "model.add(MaxPooling2D(pool_size=(2,2)))\n",
    "\n",
    "\n",
    "# Flatten the data\n",
    "model.add(Flatten())\n",
    "model.add(Dense(1000,activation = 'relu'))\n",
    "model.add(Dense(10, activation = 'softmax'))\n"
   ]
  },
  {
   "cell_type": "code",
   "execution_count": 4,
   "metadata": {},
   "outputs": [],
   "source": [
    "# Compile the model\n",
    "model.compile(loss= 'categorical_crossentropy', optimizer='adam', metrics=['accuracy'])"
   ]
  },
  {
   "cell_type": "code",
   "execution_count": 5,
   "metadata": {},
   "outputs": [
    {
     "name": "stdout",
     "output_type": "stream",
     "text": [
      "Train on 35000 samples, validate on 15000 samples\n",
      "Epoch 1/15\n",
      "35000/35000 [==============================] - 55s 2ms/step - loss: 1.6697 - accuracy: 0.3969 - val_loss: 1.4849 - val_accuracy: 0.4703\n",
      "Epoch 2/15\n",
      "35000/35000 [==============================] - 52s 1ms/step - loss: 1.3475 - accuracy: 0.5171 - val_loss: 1.2898 - val_accuracy: 0.5433\n",
      "Epoch 3/15\n",
      "35000/35000 [==============================] - 54s 2ms/step - loss: 1.2226 - accuracy: 0.5685 - val_loss: 1.2336 - val_accuracy: 0.5601\n",
      "Epoch 4/15\n",
      "35000/35000 [==============================] - 53s 2ms/step - loss: 1.1335 - accuracy: 0.5993 - val_loss: 1.1732 - val_accuracy: 0.5822\n",
      "Epoch 5/15\n",
      "35000/35000 [==============================] - 54s 2ms/step - loss: 1.0500 - accuracy: 0.6295 - val_loss: 1.0915 - val_accuracy: 0.6174\n",
      "Epoch 6/15\n",
      "35000/35000 [==============================] - 48s 1ms/step - loss: 0.9683 - accuracy: 0.6609 - val_loss: 1.0811 - val_accuracy: 0.6207\n",
      "Epoch 7/15\n",
      "35000/35000 [==============================] - 60s 2ms/step - loss: 0.9105 - accuracy: 0.6817 - val_loss: 1.1020 - val_accuracy: 0.6261\n",
      "Epoch 8/15\n",
      "35000/35000 [==============================] - 69s 2ms/step - loss: 0.8501 - accuracy: 0.7049 - val_loss: 1.0300 - val_accuracy: 0.6451\n",
      "Epoch 9/15\n",
      "35000/35000 [==============================] - 56s 2ms/step - loss: 0.7685 - accuracy: 0.7329 - val_loss: 1.0156 - val_accuracy: 0.6566\n",
      "Epoch 10/15\n",
      "35000/35000 [==============================] - 63s 2ms/step - loss: 0.7086 - accuracy: 0.7543 - val_loss: 1.0059 - val_accuracy: 0.6645\n",
      "Epoch 11/15\n",
      "35000/35000 [==============================] - 50s 1ms/step - loss: 0.6379 - accuracy: 0.7816 - val_loss: 1.0188 - val_accuracy: 0.6598\n",
      "Epoch 12/15\n",
      "35000/35000 [==============================] - 49s 1ms/step - loss: 0.5713 - accuracy: 0.8037 - val_loss: 1.0464 - val_accuracy: 0.6547\n",
      "Epoch 13/15\n",
      "35000/35000 [==============================] - 49s 1ms/step - loss: 0.4981 - accuracy: 0.8295 - val_loss: 1.0453 - val_accuracy: 0.6665\n",
      "Epoch 14/15\n",
      "35000/35000 [==============================] - 61s 2ms/step - loss: 0.4390 - accuracy: 0.8525 - val_loss: 1.0581 - val_accuracy: 0.6667\n",
      "Epoch 15/15\n",
      "35000/35000 [==============================] - 60s 2ms/step - loss: 0.3809 - accuracy: 0.8716 - val_loss: 1.1252 - val_accuracy: 0.6670\n"
     ]
    }
   ],
   "source": [
    "# Training the model\n",
    "hist2 = model.fit(x_train, y_train_one_hot, batch_size=256, epochs=15, validation_split=0.30)"
   ]
  },
  {
   "cell_type": "code",
   "execution_count": 6,
   "metadata": {},
   "outputs": [
    {
     "name": "stdout",
     "output_type": "stream",
     "text": [
      "10000/10000 [==============================] - 18s 2ms/step\n"
     ]
    },
    {
     "data": {
      "text/plain": [
       "0.6653000116348267"
      ]
     },
     "execution_count": 6,
     "metadata": {},
     "output_type": "execute_result"
    }
   ],
   "source": [
    "model.evaluate(x_test, y_test_one_hot)[1]"
   ]
  },
  {
   "cell_type": "code",
   "execution_count": 9,
   "metadata": {},
   "outputs": [
    {
     "data": {
      "image/png": "[encoded data removed]",
      "text/plain": [
       "<Figure size 432x288 with 1 Axes>"
      ]
     },
     "metadata": {
      "needs_background": "light"
     },
     "output_type": "display_data"
    }
   ],
   "source": [
    "# Visualize the accuracy\n",
    "import matplotlib.pyplot as plt\n",
    "\n",
    "plt.plot(hist2.history['accuracy'])\n",
    "plt.plot(hist2.history['val_accuracy'])\n",
    "plt.title('Model accuracy')\n",
    "plt.ylabel('Accuracy')\n",
    "plt.xlabel('Epoch')\n",
    "plt.legend(['Train', 'Test'], loc='upper left')\n",
    "plt.show()"
   ]
  },
  {
   "cell_type": "code",
   "execution_count": 11,
   "metadata": {},
   "outputs": [
    {
     "data": {
      "image/png": "[encoded data removed]",
      "text/plain": [
       "<Figure size 432x288 with 1 Axes>"
      ]
     },
     "metadata": {
      "needs_background": "light"
     },
     "output_type": "display_data"
    }
   ],
   "source": [
    "# Visualize the loss\n",
    "\n",
    "plt.plot(hist2.history['loss'])\n",
    "plt.plot(hist2.history['val_loss'])\n",
    "plt.title('Model loss')\n",
    "plt.ylabel('Loss')\n",
    "plt.xlabel('Epoch')\n",
    "plt.legend(['Train', 'Test'], loc='upper left')\n",
    "plt.show()"
   ]
  }
 ],
 "metadata": {
  "kernelspec": {
   "display_name": "Python 3",
   "language": "python",
   "name": "python3"
  },
  "language_info": {
   "codemirror_mode": {
    "name": "ipython",
    "version": 3
   },
   "file_extension": ".py",
   "mimetype": "text/x-python",
   "name": "python",
   "nbconvert_exporter": "python",
   "pygments_lexer": "ipython3",
   "version": "3.7.4"
  }
 },
 "nbformat": 4,
 "nbformat_minor": 4
}
